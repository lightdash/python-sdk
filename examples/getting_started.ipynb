{
 "cells": [
  {
   "cell_type": "markdown",
   "metadata": {},
   "source": [
    "# Getting started with Lightdash\n",
    "\n",
    "The Lightdash Python client allows you query data from the Lightdash Semantic Layer directly from Python. For example, you can use it to query your governed metrics for:\n",
    "- Creating data visualisations and interactive apps (matplotlib, plotly, etc)\n",
    "- Exploring data in a notebook (hex, jupyter, etc)\n",
    "- Pulling data into orchestration pipelines (dagster, airflow, etc)\n",
    "\n",
    "## Installation\n",
    "\n",
    "```bash\n",
    "pip install lightdash\n",
    "```"
   ]
  },
  {
   "cell_type": "markdown",
   "metadata": {},
   "source": [
    "## Setup Lightdash Client\n",
    "\n",
    "Make sure you have the following environment variables set:\n",
    "- `LIGHTDASH_ACCESS_TOKEN`\n",
    "- `LIGHTDASH_PROJECT_UUID`\n",
    "- `LIGHTDASH_INSTANCE_URL`\n",
    "\n",
    "Then you can create a Lightdash client:"
   ]
  },
  {
   "cell_type": "code",
   "execution_count": 1,
   "metadata": {},
   "outputs": [],
   "source": [
    "from lightdash import Client\n",
    "\n",
    "import os\n",
    "access_token = os.getenv(\"LIGHTDASH_ACCESS_TOKEN\")\n",
    "project_uuid = os.getenv(\"LIGHTDASH_PROJECT_UUID\")\n",
    "instance_url = os.getenv(\"LIGHTDASH_INSTANCE_URL\")\n",
    "\n",
    "client = Client(\n",
    "    instance_url=instance_url,\n",
    "    access_token=access_token,\n",
    "    project_uuid=project_uuid\n",
    ")"
   ]
  },
  {
   "cell_type": "markdown",
   "metadata": {},
   "source": [
    "## Run a query\n",
    "\n",
    "### 1. Start with a model\n",
    "\n",
    "You can use the client to list available models in your semantic layer:"
   ]
  },
  {
   "cell_type": "code",
   "execution_count": 2,
   "metadata": {},
   "outputs": [],
   "source": [
    "# print all models\n",
    "client.list_models()\n",
    "\n",
    "# get a specific model (try tab completion!)\n",
    "orders = client.models.dbt_orders"
   ]
  },
  {
   "cell_type": "code",
   "execution_count": 3,
   "metadata": {},
   "outputs": [
    {
     "data": {
      "text/plain": [
       "[Model(dbt_users: This table contains information on all of our users and customers),\n",
       " Model(dbt_baskets: This table contains all the information on customer shopping baskets on our site. There is one basket per order),\n",
       " Model(dbt_support_requests: This table contains information on all the support requests we’ve received),\n",
       " Model(dbt_orders: This table contains information on all the confirmed orders and their status.),\n",
       " Model(website_sessions),\n",
       " Model(virtual_github),\n",
       " Model(partner_orders)]"
      ]
     },
     "execution_count": 3,
     "metadata": {},
     "output_type": "execute_result"
    }
   ],
   "source": [
    "client.list_models()"
   ]
  },
  {
   "cell_type": "markdown",
   "metadata": {},
   "source": [
    "### 2. Find available metrics\n",
    "\n",
    "Find metrics in your semantic layer so you can pull data from your warehouse without writing SQL"
   ]
  },
  {
   "cell_type": "code",
   "execution_count": 4,
   "metadata": {},
   "outputs": [
    {
     "data": {
      "text/plain": [
       "'Sums the profit on all orders in your query, grouped by the dimensions you have chosen.'"
      ]
     },
     "execution_count": 4,
     "metadata": {},
     "output_type": "execute_result"
    }
   ],
   "source": [
    "# Show metrics\n",
    "orders.list_metrics()\n",
    "\n",
    "# Get data about a metric\n",
    "orders.metrics.sum_of_profit.description"
   ]
  },
  {
   "cell_type": "code",
   "execution_count": 5,
   "metadata": {},
   "outputs": [
    {
     "data": {
      "text/plain": [
       "[Metric(sum_of_profit: Sums the profit on all orders in your query, grouped by the dimensions you have chosen.),\n",
       " Metric(sum_of_basket_total: Sums the basket total for orders in your query, grouped by the dimensions you have chosen.),\n",
       " Metric(count_distinct_user_id: Counts the number of unique users (customers) with orders based on their User ID.),\n",
       " Metric(average_of_basket_total: Takes the average of basket total for orders in your query, grouped by the dimensions you have chosen.),\n",
       " Metric(count_distinct_order_id: This metric counts unique orders based on the Order ID field from the Orders table.)]"
      ]
     },
     "execution_count": 5,
     "metadata": {},
     "output_type": "execute_result"
    }
   ],
   "source": [
    "orders.list_metrics()"
   ]
  },
  {
   "cell_type": "markdown",
   "metadata": {},
   "source": [
    "### 3. Run a query\n",
    "\n",
    "Run a query to fetch metric data from your warehouse"
   ]
  },
  {
   "cell_type": "code",
   "execution_count": 6,
   "metadata": {},
   "outputs": [
    {
     "data": {
      "text/plain": [
       "[{'Sum of profit': 1515265.3899999303}]"
      ]
     },
     "execution_count": 6,
     "metadata": {},
     "output_type": "execute_result"
    }
   ],
   "source": [
    "orders.query(\n",
    "    metrics=[orders.metrics.sum_of_profit]\n",
    ").to_records()"
   ]
  },
  {
   "cell_type": "markdown",
   "metadata": {},
   "source": [
    "Use dimensions to break down your metric data"
   ]
  },
  {
   "cell_type": "code",
   "execution_count": 5,
   "metadata": {},
   "outputs": [
    {
     "data": {
      "text/html": [
       "<div>\n",
       "<style scoped>\n",
       "    .dataframe tbody tr th:only-of-type {\n",
       "        vertical-align: middle;\n",
       "    }\n",
       "\n",
       "    .dataframe tbody tr th {\n",
       "        vertical-align: top;\n",
       "    }\n",
       "\n",
       "    .dataframe thead th {\n",
       "        text-align: right;\n",
       "    }\n",
       "</style>\n",
       "<table border=\"1\" class=\"dataframe\">\n",
       "  <thead>\n",
       "    <tr style=\"text-align: right;\">\n",
       "      <th></th>\n",
       "      <th>Partner name</th>\n",
       "      <th>Sum of profit</th>\n",
       "    </tr>\n",
       "  </thead>\n",
       "  <tbody>\n",
       "    <tr>\n",
       "      <th>0</th>\n",
       "      <td>Happy Harvesters</td>\n",
       "      <td>83031.18</td>\n",
       "    </tr>\n",
       "    <tr>\n",
       "      <th>1</th>\n",
       "      <td>Garden of Sweden</td>\n",
       "      <td>52685.50</td>\n",
       "    </tr>\n",
       "    <tr>\n",
       "      <th>2</th>\n",
       "      <td>Peat, Fruits and Leaves</td>\n",
       "      <td>120270.90</td>\n",
       "    </tr>\n",
       "    <tr>\n",
       "      <th>3</th>\n",
       "      <td>Redwood Ranch</td>\n",
       "      <td>708107.40</td>\n",
       "    </tr>\n",
       "    <tr>\n",
       "      <th>4</th>\n",
       "      <td>Potted Paradise</td>\n",
       "      <td>65746.48</td>\n",
       "    </tr>\n",
       "    <tr>\n",
       "      <th>5</th>\n",
       "      <td>Roots &amp; Shoots</td>\n",
       "      <td>133449.58</td>\n",
       "    </tr>\n",
       "    <tr>\n",
       "      <th>6</th>\n",
       "      <td>Trowels R Us</td>\n",
       "      <td>94590.56</td>\n",
       "    </tr>\n",
       "    <tr>\n",
       "      <th>7</th>\n",
       "      <td>Sprout Society</td>\n",
       "      <td>114499.07</td>\n",
       "    </tr>\n",
       "    <tr>\n",
       "      <th>8</th>\n",
       "      <td>Plant Paradise</td>\n",
       "      <td>142884.72</td>\n",
       "    </tr>\n",
       "  </tbody>\n",
       "</table>\n",
       "</div>"
      ],
      "text/plain": [
       "              Partner name  Sum of profit\n",
       "0         Happy Harvesters       83031.18\n",
       "1         Garden of Sweden       52685.50\n",
       "2  Peat, Fruits and Leaves      120270.90\n",
       "3            Redwood Ranch      708107.40\n",
       "4          Potted Paradise       65746.48\n",
       "5           Roots & Shoots      133449.58\n",
       "6             Trowels R Us       94590.56\n",
       "7           Sprout Society      114499.07\n",
       "8           Plant Paradise      142884.72"
      ]
     },
     "execution_count": 5,
     "metadata": {},
     "output_type": "execute_result"
    }
   ],
   "source": [
    "# List available dimensions\n",
    "orders.list_dimensions()\n",
    "\n",
    "# Query profit broken down by partner\n",
    "orders.query(\n",
    "    dimensions=[orders.dimensions.partner_name],\n",
    "    metrics=[orders.metrics.sum_of_profit]\n",
    ").to_df()"
   ]
  }
 ],
 "metadata": {
  "kernelspec": {
   "display_name": ".venv",
   "language": "python",
   "name": "python3"
  },
  "language_info": {
   "codemirror_mode": {
    "name": "ipython",
    "version": 3
   },
   "file_extension": ".py",
   "mimetype": "text/x-python",
   "name": "python",
   "nbconvert_exporter": "python",
   "pygments_lexer": "ipython3",
   "version": "3.9.18"
  }
 },
 "nbformat": 4,
 "nbformat_minor": 2
}
